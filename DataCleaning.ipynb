{
 "cells": [
  {
   "cell_type": "markdown",
   "metadata": {},
   "source": [
    "# Data Mining Project\n",
    "## Discover and describe aeras of interest and events from geo-located data.\n",
    "### Team:\n",
    "- **SCHLEE Adam**\n",
    "- **KUSNO Louis**"
   ]
  },
  {
   "cell_type": "markdown",
   "metadata": {},
   "source": [
    "## Imports"
   ]
  },
  {
   "cell_type": "code",
   "execution_count": null,
   "metadata": {},
   "outputs": [],
   "source": [
    "# installation of required libraries and dependencies\n",
    "# numeric calculations\n",
    "! pip install numpy\n",
    "# data frames \n",
    "! pip install pandas\n",
    "# machine learning algorithms \n",
    "# ! pip install scikit-learn\n",
    "# ! pip install scipy\n",
    "# plotting \n",
    "! pip install matplotlib\n",
    "# ! pip install plotly\n",
    "# ! pip install seaborn\n",
    "# ! pip install plotly-express\n",
    "# ! pip install chart-studio\n",
    "# web app library \n",
    "# ! pip install streamlit\n",
    "# # association rules\n",
    "# ! pip install mlxtend\n",
    "\n",
    "# ! pip install nbformat"
   ]
  },
  {
   "cell_type": "code",
   "execution_count": 13,
   "metadata": {},
   "outputs": [],
   "source": [
    "# load pandas to deal with the data\n",
    "import pandas as pd\n",
    "# plotting\n",
    "import matplotlib.pyplot as plt\n",
    "# import seaborn as sns"
   ]
  },
  {
   "cell_type": "code",
   "execution_count": null,
   "metadata": {},
   "outputs": [],
   "source": [
    "data = pd.read_table(\"data/flickr_data2.csv\", sep=\",\")"
   ]
  },
  {
   "cell_type": "markdown",
   "metadata": {},
   "source": [
    "> ### Delete duplicates"
   ]
  },
  {
   "cell_type": "code",
   "execution_count": null,
   "metadata": {},
   "outputs": [],
   "source": [
    "# Delete duplicates\n",
    "\n",
    "data = data.drop_duplicates()\n",
    "data = data.reset_index(drop=True)\n",
    "data.info()"
   ]
  },
  {
   "cell_type": "code",
   "execution_count": null,
   "metadata": {},
   "outputs": [],
   "source": []
  },
  {
   "cell_type": "markdown",
   "metadata": {},
   "source": [
    "> ### Rename columns"
   ]
  },
  {
   "cell_type": "code",
   "execution_count": 97,
   "metadata": {},
   "outputs": [],
   "source": [
    "data.columns = data.columns.str.replace(' ', '')"
   ]
  },
  {
   "cell_type": "markdown",
   "metadata": {},
   "source": [
    "> ### Clean Data"
   ]
  },
  {
   "cell_type": "code",
   "execution_count": 98,
   "metadata": {},
   "outputs": [],
   "source": [
    "# Vérifier si \"Unnamed:16\" contient une année valide (nombre à 4 chiffres)\n",
    "def is_year(value):\n",
    "    return isinstance(value, (int, float)) and 1000 <= value <= 9999\n",
    "\n",
    "# Récupérer les index des lignes où \"Unnamed:16\" contient une année\n",
    "index = data[data[\"Unnamed:16\"].apply(is_year)].index\n",
    "\n",
    "# Décaler les colonnes pour chaque ligne concernée\n",
    "for i in index:\n",
    "    # Décalage des colonnes \"date_upload_*\"\n",
    "    data.loc[i, \"date_upload_minute\"] = data.loc[i, \"date_upload_hour\"]\n",
    "    data.loc[i, \"date_upload_hour\"] = data.loc[i, \"date_upload_day\"]\n",
    "    data.loc[i, \"date_upload_day\"] = data.loc[i, \"date_upload_month\"]\n",
    "    data.loc[i, \"date_upload_month\"] = data.loc[i, \"date_upload_year\"]\n",
    "    data.loc[i, \"date_upload_year\"] = data.loc[i, \"Unnamed:16\"]\n",
    "    data.loc[i, \"Unnamed:16\"] = None\n",
    "    \n",
    "    # Décalage des colonnes \"date_taken_*\"\n",
    "    if \"date_taken_minute\" in data.columns:\n",
    "        tmpYear = data.loc[i, \"date_taken_minute\"]\n",
    "        data.loc[i, \"date_taken_minute\"] = data.loc[i, \"date_taken_hour\"]\n",
    "        data.loc[i, \"date_taken_hour\"] = data.loc[i, \"date_taken_day\"]\n",
    "        data.loc[i, \"date_taken_day\"] = data.loc[i, \"date_taken_month\"]\n",
    "        data.loc[i, \"date_taken_month\"] = data.loc[i, \"date_taken_year\"]\n",
    "        data.loc[i, \"date_taken_year\"] = tmpYear\n",
    "\n",
    "# Supprimer les colonnes Unnamed\n",
    "\n",
    "data = data.drop(columns=data.columns[data.columns.str.contains(\"Unnamed\")])\n"
   ]
  },
  {
   "cell_type": "markdown",
   "metadata": {},
   "source": [
    "> ### Change columns type"
   ]
  },
  {
   "cell_type": "code",
   "execution_count": null,
   "metadata": {},
   "outputs": [],
   "source": [
    "\n",
    "data[\"date_upload_minute\"].unique()\n",
    "data[\"date_upload_minute\"] = pd.to_numeric(data[\"date_upload_minute\"], errors=\"coerce\")\n",
    "data[\"date_upload_minute\"] = data[\"date_upload_minute\"].astype(\"Int64\")\n",
    "data[\"date_upload_year\"] = data[\"date_upload_year\"].astype(\"Int64\")\n",
    "\n",
    "# On enlève les doublons qui auraient pu être révélés apres les modifications\n",
    "\n",
    "data = data.drop_duplicates()\n",
    "data = data.reset_index(drop=True)\n",
    "\n",
    "data.to_csv(\"data/dataset.csv\", index=False)\n",
    "data = pd.read_csv(\"data/dataset.csv\")\n",
    "\n",
    "data.info()"
   ]
  }
 ],
 "metadata": {
  "kernelspec": {
   "display_name": ".venv",
   "language": "python",
   "name": "python3"
  },
  "language_info": {
   "codemirror_mode": {
    "name": "ipython",
    "version": 3
   },
   "file_extension": ".py",
   "mimetype": "text/x-python",
   "name": "python",
   "nbconvert_exporter": "python",
   "pygments_lexer": "ipython3",
   "version": "3.13.1"
  }
 },
 "nbformat": 4,
 "nbformat_minor": 2
}
