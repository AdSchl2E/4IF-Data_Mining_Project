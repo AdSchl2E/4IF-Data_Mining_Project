{
 "cells": [
  {
   "cell_type": "markdown",
   "metadata": {},
   "source": [
    "# Data Mining Project\n",
    "## Discover and describe aeras of interest and events from geo-located data.\n",
    "### Team:\n",
    "- **SCHLEE Adam**\n",
    "- **KUSNO Louis**"
   ]
  },
  {
   "cell_type": "markdown",
   "metadata": {},
   "source": [
    "## Imports"
   ]
  },
  {
   "cell_type": "code",
   "execution_count": null,
   "metadata": {},
   "outputs": [],
   "source": [
    "# installation of required libraries and dependencies\n",
    "# numeric calculations\n",
    "! pip install numpy\n",
    "# data frames \n",
    "! pip install pandas\n",
    "# machine learning algorithms \n",
    "# ! pip install scikit-learn\n",
    "# ! pip install scipy\n",
    "# plotting \n",
    "! pip install matplotlib\n",
    "# ! pip install plotly\n",
    "# ! pip install seaborn\n",
    "# ! pip install plotly-express\n",
    "# ! pip install chart-studio\n",
    "# web app library \n",
    "# ! pip install streamlit\n",
    "# # association rules\n",
    "# ! pip install mlxtend\n",
    "\n",
    "# ! pip install nbformat"
   ]
  },
  {
   "cell_type": "code",
   "execution_count": 26,
   "metadata": {},
   "outputs": [],
   "source": [
    "# load pandas to deal with the data\n",
    "import pandas as pd\n",
    "# plotting\n",
    "import matplotlib.pyplot as plt\n",
    "# import seaborn as sns"
   ]
  },
  {
   "cell_type": "code",
   "execution_count": null,
   "metadata": {},
   "outputs": [],
   "source": [
    "data = pd.read_table(\"data/flickr_data2.csv\", sep=\",\")\n",
    "data.head()"
   ]
  }
 ],
 "metadata": {
  "kernelspec": {
   "display_name": ".venv",
   "language": "python",
   "name": "python3"
  },
  "language_info": {
   "codemirror_mode": {
    "name": "ipython",
    "version": 3
   },
   "file_extension": ".py",
   "mimetype": "text/x-python",
   "name": "python",
   "nbconvert_exporter": "python",
   "pygments_lexer": "ipython3",
   "version": "3.13.0"
  }
 },
 "nbformat": 4,
 "nbformat_minor": 2
}
