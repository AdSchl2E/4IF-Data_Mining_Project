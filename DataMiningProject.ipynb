{
 "cells": [
  {
   "cell_type": "markdown",
   "metadata": {},
   "source": [
    "# Data Mining Project\n",
    "## Discover and describe aeras of interest and events from geo-located data.\n",
    "### Team:\n",
    "- **SCHLEE Adam**\n",
    "- **KUSNO Louis**"
   ]
  }
 ],
 "metadata": {
  "language_info": {
   "name": "python"
  }
 },
 "nbformat": 4,
 "nbformat_minor": 2
}
